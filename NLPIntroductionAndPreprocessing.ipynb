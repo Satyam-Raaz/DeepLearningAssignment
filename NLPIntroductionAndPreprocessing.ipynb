{
 "cells": [
  {
   "cell_type": "code",
   "execution_count": 1,
   "metadata": {},
   "outputs": [
    {
     "name": "stdout",
     "output_type": "stream",
     "text": [
      "['Machine', 'Learning', '(', 'ML', ')', 'is', 'a', 'subset', 'of', 'artificial', 'intelligence', '(', 'AI', ')', 'that', 'allows', 'computers', 'to', 'learn', 'from', 'data', 'and', 'improve', 'their', 'performance', 'over', 'time', 'without', 'being', 'explicitly', 'programmed', '.']\n"
     ]
    }
   ],
   "source": [
    "#Q.No.1>  How can you perform word tokenization using NLTK.\n",
    "from nltk.tokenize import wordpunct_tokenize\n",
    "corpus=\"Machine Learning (ML) is a subset of artificial intelligence (AI) that allows computers to learn from data and improve their performance over time without being explicitly programmed.\"\n",
    "print(wordpunct_tokenize(corpus))"
   ]
  },
  {
   "cell_type": "code",
   "execution_count": 2,
   "metadata": {},
   "outputs": [
    {
     "name": "stdout",
     "output_type": "stream",
     "text": [
      "['Machine Learning (ML) is a subset of artificial intelligence (AI) that allows computers to learn from data and improve their performance over time without being explicitly programmed.', 'Instead of relying on hard-coded rules, machine learning algorithms use patterns in data to make predictions or decisions.']\n"
     ]
    }
   ],
   "source": [
    "#Q.No.2>  How can you perform sentence tokenization using NLTK.\n",
    "from nltk.tokenize import sent_tokenize\n",
    "corpus=\"Machine Learning (ML) is a subset of artificial intelligence (AI) that allows computers to learn from data and improve their performance over time without being explicitly programmed. Instead of relying on hard-coded rules, machine learning algorithms use patterns in data to make predictions or decisions.\"\n",
    "print(sent_tokenize(corpus))\n"
   ]
  },
  {
   "cell_type": "code",
   "execution_count": 21,
   "metadata": {},
   "outputs": [
    {
     "name": "stdout",
     "output_type": "stream",
     "text": [
      "['machin learn ( ml ) subset artifici intellig ( ai ) allow comput learn data improv perform time without explicit program .', 'instead reli hard-cod rule , machin learn algorithm use pattern data make predict decis .']\n"
     ]
    },
    {
     "name": "stderr",
     "output_type": "stream",
     "text": [
      "[nltk_data] Downloading package stopwords to\n",
      "[nltk_data]     C:\\Users\\hp\\AppData\\Roaming\\nltk_data...\n",
      "[nltk_data]   Package stopwords is already up-to-date!\n"
     ]
    }
   ],
   "source": [
    "#Q.No.3>  How can you remove stopwords from a sentence?\n",
    "import nltk\n",
    "from nltk.corpus import stopwords\n",
    "from nltk.stem import SnowballStemmer\n",
    "snowballstemmer=SnowballStemmer('english')\n",
    "nltk.download('stopwords')\n",
    "\n",
    "paragraph=\"\"\"Machine Learning (ML) is a subset of artificial intelligence (AI) that allows computers to learn from data and improve their performance over time without being explicitly programmed. Instead of relying on hard-coded rules, machine learning algorithms use patterns in data to make predictions or decisions.\"\"\"\n",
    "sentences=nltk.sent_tokenize(paragraph)\n",
    "for i in range(len(sentences)):\n",
    "    words=nltk.word_tokenize(sentences[i])\n",
    "    words=[snowballstemmer.stem(word) for word in words if word not in set(stopwords.words('english'))]\n",
    "    sentences[i]=' '.join(words)\n",
    "\n",
    "print(sentences)\n"
   ]
  },
  {
   "cell_type": "code",
   "execution_count": 22,
   "metadata": {},
   "outputs": [
    {
     "name": "stdout",
     "output_type": "stream",
     "text": [
      "machin\n",
      "learn\n",
      "(\n",
      "ml\n",
      ")\n",
      "is\n",
      "a\n",
      "subset\n",
      "of\n",
      "artifici\n",
      "intellig\n",
      "(\n",
      "ai\n",
      ")\n",
      "that\n",
      "allow\n",
      "comput\n",
      "to\n",
      "learn\n",
      "from\n",
      "data\n",
      "and\n",
      "improv\n",
      "their\n",
      "perform\n",
      "over\n",
      "time\n",
      "without\n",
      "be\n",
      "explicitli\n",
      "program\n",
      ".\n"
     ]
    }
   ],
   "source": [
    "#Q.No.4>  How can you perform stemming on a word\n",
    "from nltk.stem import PorterStemmer\n",
    "stemming=PorterStemmer()\n",
    "sentence=\"Machine Learning (ML) is a subset of artificial intelligence (AI) that allows computers to learn from data and improve their performance over time without being explicitly programmed.\"\n",
    "words=nltk.word_tokenize(sentence)\n",
    "for word in words:\n",
    "    print(stemming.stem(word))"
   ]
  },
  {
   "cell_type": "code",
   "execution_count": 23,
   "metadata": {},
   "outputs": [
    {
     "name": "stdout",
     "output_type": "stream",
     "text": [
      "Machine\n",
      "Learning\n",
      "(\n",
      "ML\n",
      ")\n",
      "is\n",
      "a\n",
      "subset\n",
      "of\n",
      "artificial\n",
      "intelligence\n",
      "(\n",
      "AI\n",
      ")\n",
      "that\n",
      "allows\n",
      "computer\n",
      "to\n",
      "learn\n",
      "from\n",
      "data\n",
      "and\n",
      "improve\n",
      "their\n",
      "performance\n",
      "over\n",
      "time\n",
      "without\n",
      "being\n",
      "explicitly\n",
      "programmed\n",
      ".\n"
     ]
    }
   ],
   "source": [
    "#Q.No.5>  How can you perform lemmatization on a word?\n",
    "from nltk.stem import WordNetLemmatizer\n",
    "lemmatizer=WordNetLemmatizer()\n",
    "sentence=\"Machine Learning (ML) is a subset of artificial intelligence (AI) that allows computers to learn from data and improve their performance over time without being explicitly programmed.\"\n",
    "words=nltk.word_tokenize(sentence)\n",
    "for word in words:\n",
    "    print(lemmatizer.lemmatize(word))"
   ]
  },
  {
   "cell_type": "code",
   "execution_count": 26,
   "metadata": {},
   "outputs": [
    {
     "name": "stdout",
     "output_type": "stream",
     "text": [
      "machine learning (ml) is a subset of artificial intelligence (ai) that allows computers to learn from data and improve their performance over time without being explicitly programmed.\n"
     ]
    }
   ],
   "source": [
    "#Q.No.6>  How can you normalize a text by converting it to lowercase and removing punctuation?\n",
    "sentence=\"Machine Learning (ML) is a subset of artificial intelligence (AI) that allows computers to learn from data and improve their performance over time without being explicitly programmed.\"\n",
    "import string\n",
    "def lowercase_text(sentence):\n",
    "    remove_punctuation(sentence)\n",
    "    return sentence.lower()\n",
    "\n",
    "def remove_punctuation(sentence):\n",
    "    translator=str.maketrans('','',string.punctuation)\n",
    "    return sentence.translate(translator)\n",
    "\n",
    "print(lowercase_text(sentence))\n"
   ]
  },
  {
   "cell_type": "code",
   "execution_count": 27,
   "metadata": {},
   "outputs": [
    {
     "name": "stdout",
     "output_type": "stream",
     "text": [
      "i: {'love': 2, 'programming': 1, 'python': 1}\n",
      "love: {'i': 2, 'programming': 1, 'in': 1, 'python': 1}\n",
      "programming: {'i': 1, 'love': 1, 'in': 1, 'python': 1}\n",
      "in: {'love': 1, 'programming': 1, 'python': 1}\n",
      "python: {'programming': 1, 'in': 1, 'is': 1, 'awesome': 1, 'i': 1, 'love': 1}\n",
      "is: {'python': 1, 'awesome': 1}\n",
      "awesome: {'python': 1, 'is': 1}\n"
     ]
    },
    {
     "name": "stderr",
     "output_type": "stream",
     "text": [
      "[nltk_data] Downloading package punkt to\n",
      "[nltk_data]     C:\\Users\\hp\\AppData\\Roaming\\nltk_data...\n",
      "[nltk_data]   Package punkt is already up-to-date!\n"
     ]
    }
   ],
   "source": [
    "#Q.No.7>  How can you create a co-occurrence matrix for words in a corpus?\n",
    "import numpy as np\n",
    "import nltk\n",
    "from collections import defaultdict\n",
    "\n",
    "# Example corpus\n",
    "corpus = [\"I love programming in Python\", \"Python is awesome\", \"I love Python\"]\n",
    "\n",
    "# Step 1: Tokenize and preprocess\n",
    "nltk.download('punkt')\n",
    "tokenized_corpus = [nltk.word_tokenize(sentence.lower()) for sentence in corpus]\n",
    "\n",
    "# Step 2: Create a vocabulary (list of unique words)\n",
    "vocabulary = list(set(word for sentence in tokenized_corpus for word in sentence))\n",
    "\n",
    "# Step 3: Define the window size\n",
    "window_size = 2\n",
    "\n",
    "# Step 4: Initialize the co-occurrence matrix\n",
    "co_occurrence_matrix = defaultdict(lambda: defaultdict(int))\n",
    "\n",
    "# Step 5: Create co-occurrence matrix\n",
    "for sentence in tokenized_corpus:\n",
    "    for i, word in enumerate(sentence):\n",
    "        # Look at words in the window around the current word\n",
    "        for j in range(i - window_size, i + window_size + 1):\n",
    "            if j != i and 0 <= j < len(sentence):\n",
    "                co_occurrence_matrix[word][sentence[j]] += 1\n",
    "\n",
    "# Step 6: Display the matrix\n",
    "for word, neighbors in co_occurrence_matrix.items():\n",
    "    print(f\"{word}: {dict(neighbors)}\")\n"
   ]
  },
  {
   "cell_type": "code",
   "execution_count": 28,
   "metadata": {},
   "outputs": [
    {
     "name": "stdout",
     "output_type": "stream",
     "text": [
      "Extracted emails: ['support@example.com', 'john.doe123@company.org', 'admin@website.co', 'info@company.com']\n"
     ]
    }
   ],
   "source": [
    "#Q.No.8>  How can you apply a regular expression to extract all email addresses from a text?\n",
    "import re\n",
    "\n",
    "text = \"\"\"\n",
    "Hello, please contact us at support@example.com for more information.\n",
    "You can also reach out to john.doe123@company.org or admin@website.co.\n",
    "Feel free to email us at info@company.com!\n",
    "\"\"\"\n",
    "\n",
    "email_pattern = r'\\b[A-Za-z0-9._%+-]+@[A-Za-z0-9.-]+\\.[A-Za-z]{2,}\\b'\n",
    "\n",
    "emails = re.findall(email_pattern, text)\n",
    "\n",
    "print(\"Extracted emails:\", emails)\n",
    "\n"
   ]
  },
  {
   "cell_type": "code",
   "execution_count": 37,
   "metadata": {},
   "outputs": [
    {
     "name": "stdout",
     "output_type": "stream",
     "text": [
      "Word Embedding for 'language':\n",
      "[-0.00515918 -0.00666806 -0.00777626  0.00831322 -0.00198051 -0.00685741\n",
      " -0.00415454  0.00514635 -0.00287023 -0.00375177  0.00162149 -0.0027789\n",
      " -0.00158607  0.00107656 -0.00297735  0.0085222   0.00391323 -0.00995789\n",
      "  0.00625925 -0.00675515  0.00077016  0.00440348 -0.00510163 -0.00211361\n",
      "  0.00809823 -0.00424346 -0.00763845  0.00926014 -0.00215621 -0.00471811\n",
      "  0.00857448  0.00428261  0.00432515  0.00928397 -0.00845295  0.00525666\n",
      "  0.00204147  0.00419042  0.00170071  0.00446717  0.00448895  0.00610327\n",
      " -0.00320496 -0.00457633 -0.00042741  0.00253618 -0.00326189  0.00605796\n",
      "  0.004155    0.00776594  0.0025717   0.00811496 -0.00138742  0.00807977\n",
      "  0.00371717 -0.00804591 -0.00393157 -0.00247035  0.00489339 -0.00087014\n",
      " -0.00283356  0.00783545  0.00932265 -0.0016165  -0.00515883 -0.0047008\n",
      " -0.00484445 -0.00960546  0.00137421 -0.00422356  0.00252597  0.0056127\n",
      " -0.00406486 -0.00959585  0.00154665 -0.0067027   0.0024935  -0.00378173\n",
      "  0.00708061  0.00063928  0.00355876 -0.00273838 -0.00170939  0.00765187\n",
      "  0.00140816 -0.00585166 -0.00783535  0.00123011  0.00645608  0.00555565\n",
      " -0.00897774  0.00859267  0.00404803  0.00746826  0.00974666 -0.00728965\n",
      " -0.00903949  0.00583598  0.00938963  0.00350855]\n",
      "\n",
      "Most similar words to 'language':\n",
      "[('.', 0.2161742001771927), ('processing', 0.044699911028146744), ('natural', 0.014987758360803127)]\n"
     ]
    }
   ],
   "source": [
    "#Q.No.9>  How can you perform word embedding using Word2Vec?\n",
    "import nltk\n",
    "from nltk.tokenize import word_tokenize\n",
    "from gensim.models import Word2Vec\n",
    "\n",
    "# Sample text (corpus)\n",
    "text = \"Natural language processing is a fascinating field of artificial intelligence.\"\n",
    "\n",
    "# Tokenize the text into words\n",
    "words = word_tokenize(text.lower())  # Converting to lowercase for consistency\n",
    "\n",
    "# Prepare data for Word2Vec (list of sentences)\n",
    "sentences = [words]\n",
    "\n",
    "# Create and train the Word2Vec model\n",
    "model = Word2Vec(sentences, vector_size=100, window=5, min_count=1, workers=4)\n",
    "\n",
    "# Retrieve the vector (embedding) for a specific word\n",
    "vector = model.wv['language']\n",
    "\n",
    "# Display the word embedding for the word \"language\"\n",
    "print(\"Word Embedding for 'language':\")\n",
    "print(vector)\n",
    "\n",
    "# Find the most similar words to 'language'\n",
    "similar_words = model.wv.most_similar('language', topn=3)\n",
    "print(\"\\nMost similar words to 'language':\")\n",
    "print(similar_words)\n",
    "\n",
    "\n"
   ]
  },
  {
   "cell_type": "code",
   "execution_count": null,
   "metadata": {},
   "outputs": [
    {
     "name": "stdout",
     "output_type": "stream",
     "text": [
      "Document vector for the first document: [ 0.00802047  0.00731936  0.00227334 -0.00948015 -0.00987935 -0.00187522\n",
      "  0.00912358 -0.00625816 -0.00336711 -0.00237396  0.00299132 -0.003935\n",
      "  0.00135696  0.00382403 -0.00398288  0.00561255 -0.0057113   0.00802576\n",
      " -0.00904614 -0.00444711 -0.0089371   0.00826028 -0.00825642  0.00274013\n",
      "  0.00051521  0.00631197 -0.00137993  0.00109783  0.00309982  0.00855414\n",
      " -0.00368899  0.00116235 -0.00182141  0.00967463 -0.00052388 -0.00971974\n",
      "  0.00516913 -0.00081522 -0.00692354 -0.0062153  -0.00736021 -0.00273812\n",
      " -0.00995946  0.00386623 -0.00106723  0.00638816 -0.00528426 -0.00125563\n",
      "  0.00229482 -0.00676099]\n",
      "\n",
      "Most similar documents to document 0: [('1', 0.2717875838279724), ('2', 0.12558500468730927)]\n"
     ]
    }
   ],
   "source": [
    "#Q.No.10>  How can you use Doc2Vec to embed documents.\n",
    "import gensim\n",
    "from gensim.models import Doc2Vec\n",
    "from nltk.tokenize import word_tokenize\n",
    "\n",
    "# Sample documents (corpus)\n",
    "documents = [\n",
    "    \"Natural language processing is fun.\",\n",
    "    \"I love learning machine learning and AI.\",\n",
    "    \"Gensim is a great library for text processing.\"\n",
    "]\n",
    "\n",
    "# Tokenize the documents into words\n",
    "tokenized_docs = [word_tokenize(doc.lower()) for doc in documents]\n",
    "\n",
    "# Prepare the documents for Doc2Vec (Tag each document)\n",
    "tagged_data = [gensim.models.doc2vec.TaggedDocument(words=doc, tags=[str(i)]) for i, doc in enumerate(tokenized_docs)]\n",
    "\n",
    "# Train the Doc2Vec model\n",
    "model = Doc2Vec(vector_size=50, window=2, min_count=1, workers=4)\n",
    "model.build_vocab(tagged_data)\n",
    "model.train(tagged_data, total_examples=model.corpus_count, epochs=10)\n",
    "\n",
    "# Retrieve the document vector (embedding) for the first document\n",
    "document_vector = model.infer_vector(tokenized_docs[0])\n",
    "\n",
    "# Display the document vector\n",
    "print(\"Document vector for the first document:\", document_vector)\n",
    "\n",
    "# Find the most similar documents to the first document\n",
    "similar_docs = model.dv.most_similar('0', topn=2)\n",
    "print(\"\\nMost similar documents to document 0:\", similar_docs)"
   ]
  },
  {
   "cell_type": "code",
   "execution_count": 46,
   "metadata": {},
   "outputs": [
    {
     "name": "stderr",
     "output_type": "stream",
     "text": [
      "[nltk_data] Downloading package averaged_perceptron_tagger_eng to\n",
      "[nltk_data]     C:\\Users\\hp\\AppData\\Roaming\\nltk_data...\n",
      "[nltk_data] Error downloading 'averaged_perceptron_tagger_eng' from\n",
      "[nltk_data]     <https://raw.githubusercontent.com/nltk/nltk_data/gh-p\n",
      "[nltk_data]     ages/packages/taggers/averaged_perceptron_tagger_eng.z\n",
      "[nltk_data]     ip>:   <urlopen error [Errno 11001] getaddrinfo\n",
      "[nltk_data]     failed>\n"
     ]
    },
    {
     "ename": "LookupError",
     "evalue": "\n**********************************************************************\n  Resource \u001b[93maveraged_perceptron_tagger_eng\u001b[0m not found.\n  Please use the NLTK Downloader to obtain the resource:\n\n  \u001b[31m>>> import nltk\n  >>> nltk.download('averaged_perceptron_tagger_eng')\n  \u001b[0m\n  For more information see: https://www.nltk.org/data.html\n\n  Attempted to load \u001b[93mtaggers/averaged_perceptron_tagger_eng/\u001b[0m\n\n  Searched in:\n    - 'C:\\\\Users\\\\hp/nltk_data'\n    - 'c:\\\\Users\\\\hp\\\\AppData\\\\Local\\\\Programs\\\\Python\\\\Python312\\\\nltk_data'\n    - 'c:\\\\Users\\\\hp\\\\AppData\\\\Local\\\\Programs\\\\Python\\\\Python312\\\\share\\\\nltk_data'\n    - 'c:\\\\Users\\\\hp\\\\AppData\\\\Local\\\\Programs\\\\Python\\\\Python312\\\\lib\\\\nltk_data'\n    - 'C:\\\\Users\\\\hp\\\\AppData\\\\Roaming\\\\nltk_data'\n    - 'C:\\\\nltk_data'\n    - 'D:\\\\nltk_data'\n    - 'E:\\\\nltk_data'\n**********************************************************************\n",
     "output_type": "error",
     "traceback": [
      "\u001b[1;31m---------------------------------------------------------------------------\u001b[0m",
      "\u001b[1;31mLookupError\u001b[0m                               Traceback (most recent call last)",
      "Cell \u001b[1;32mIn[46], line 14\u001b[0m\n\u001b[0;32m     11\u001b[0m words \u001b[38;5;241m=\u001b[39m word_tokenize(sentence)\n\u001b[0;32m     13\u001b[0m \u001b[38;5;66;03m# Perform POS tagging\u001b[39;00m\n\u001b[1;32m---> 14\u001b[0m tagged_words \u001b[38;5;241m=\u001b[39m \u001b[43mpos_tag\u001b[49m\u001b[43m(\u001b[49m\u001b[43mwords\u001b[49m\u001b[43m)\u001b[49m\n\u001b[0;32m     16\u001b[0m \u001b[38;5;66;03m# Display the POS tags\u001b[39;00m\n\u001b[0;32m     17\u001b[0m \u001b[38;5;28mprint\u001b[39m(tagged_words)\n",
      "File \u001b[1;32mc:\\Users\\hp\\AppData\\Local\\Programs\\Python\\Python312\\Lib\\site-packages\\nltk\\tag\\__init__.py:168\u001b[0m, in \u001b[0;36mpos_tag\u001b[1;34m(tokens, tagset, lang)\u001b[0m\n\u001b[0;32m    143\u001b[0m \u001b[38;5;28;01mdef\u001b[39;00m \u001b[38;5;21mpos_tag\u001b[39m(tokens, tagset\u001b[38;5;241m=\u001b[39m\u001b[38;5;28;01mNone\u001b[39;00m, lang\u001b[38;5;241m=\u001b[39m\u001b[38;5;124m\"\u001b[39m\u001b[38;5;124meng\u001b[39m\u001b[38;5;124m\"\u001b[39m):\n\u001b[0;32m    144\u001b[0m \u001b[38;5;250m    \u001b[39m\u001b[38;5;124;03m\"\"\"\u001b[39;00m\n\u001b[0;32m    145\u001b[0m \u001b[38;5;124;03m    Use NLTK's currently recommended part of speech tagger to\u001b[39;00m\n\u001b[0;32m    146\u001b[0m \u001b[38;5;124;03m    tag the given list of tokens.\u001b[39;00m\n\u001b[1;32m   (...)\u001b[0m\n\u001b[0;32m    166\u001b[0m \u001b[38;5;124;03m    :rtype: list(tuple(str, str))\u001b[39;00m\n\u001b[0;32m    167\u001b[0m \u001b[38;5;124;03m    \"\"\"\u001b[39;00m\n\u001b[1;32m--> 168\u001b[0m     tagger \u001b[38;5;241m=\u001b[39m \u001b[43m_get_tagger\u001b[49m\u001b[43m(\u001b[49m\u001b[43mlang\u001b[49m\u001b[43m)\u001b[49m\n\u001b[0;32m    169\u001b[0m     \u001b[38;5;28;01mreturn\u001b[39;00m _pos_tag(tokens, tagset, tagger, lang)\n",
      "File \u001b[1;32mc:\\Users\\hp\\AppData\\Local\\Programs\\Python\\Python312\\Lib\\site-packages\\nltk\\tag\\__init__.py:110\u001b[0m, in \u001b[0;36m_get_tagger\u001b[1;34m(lang)\u001b[0m\n\u001b[0;32m    108\u001b[0m     tagger \u001b[38;5;241m=\u001b[39m PerceptronTagger(lang\u001b[38;5;241m=\u001b[39mlang)\n\u001b[0;32m    109\u001b[0m \u001b[38;5;28;01melse\u001b[39;00m:\n\u001b[1;32m--> 110\u001b[0m     tagger \u001b[38;5;241m=\u001b[39m \u001b[43mPerceptronTagger\u001b[49m\u001b[43m(\u001b[49m\u001b[43m)\u001b[49m\n\u001b[0;32m    111\u001b[0m \u001b[38;5;28;01mreturn\u001b[39;00m tagger\n",
      "File \u001b[1;32mc:\\Users\\hp\\AppData\\Local\\Programs\\Python\\Python312\\Lib\\site-packages\\nltk\\tag\\perceptron.py:183\u001b[0m, in \u001b[0;36mPerceptronTagger.__init__\u001b[1;34m(self, load, lang)\u001b[0m\n\u001b[0;32m    181\u001b[0m \u001b[38;5;28mself\u001b[39m\u001b[38;5;241m.\u001b[39mclasses \u001b[38;5;241m=\u001b[39m \u001b[38;5;28mset\u001b[39m()\n\u001b[0;32m    182\u001b[0m \u001b[38;5;28;01mif\u001b[39;00m load:\n\u001b[1;32m--> 183\u001b[0m     \u001b[38;5;28;43mself\u001b[39;49m\u001b[38;5;241;43m.\u001b[39;49m\u001b[43mload_from_json\u001b[49m\u001b[43m(\u001b[49m\u001b[43mlang\u001b[49m\u001b[43m)\u001b[49m\n",
      "File \u001b[1;32mc:\\Users\\hp\\AppData\\Local\\Programs\\Python\\Python312\\Lib\\site-packages\\nltk\\tag\\perceptron.py:273\u001b[0m, in \u001b[0;36mPerceptronTagger.load_from_json\u001b[1;34m(self, lang)\u001b[0m\n\u001b[0;32m    271\u001b[0m \u001b[38;5;28;01mdef\u001b[39;00m \u001b[38;5;21mload_from_json\u001b[39m(\u001b[38;5;28mself\u001b[39m, lang\u001b[38;5;241m=\u001b[39m\u001b[38;5;124m\"\u001b[39m\u001b[38;5;124meng\u001b[39m\u001b[38;5;124m\"\u001b[39m):\n\u001b[0;32m    272\u001b[0m     \u001b[38;5;66;03m# Automatically find path to the tagger if location is not specified.\u001b[39;00m\n\u001b[1;32m--> 273\u001b[0m     loc \u001b[38;5;241m=\u001b[39m \u001b[43mfind\u001b[49m\u001b[43m(\u001b[49m\u001b[38;5;124;43mf\u001b[39;49m\u001b[38;5;124;43m\"\u001b[39;49m\u001b[38;5;124;43mtaggers/averaged_perceptron_tagger_\u001b[39;49m\u001b[38;5;132;43;01m{\u001b[39;49;00m\u001b[43mlang\u001b[49m\u001b[38;5;132;43;01m}\u001b[39;49;00m\u001b[38;5;124;43m/\u001b[39;49m\u001b[38;5;124;43m\"\u001b[39;49m\u001b[43m)\u001b[49m\n\u001b[0;32m    274\u001b[0m     \u001b[38;5;28;01mwith\u001b[39;00m \u001b[38;5;28mopen\u001b[39m(loc \u001b[38;5;241m+\u001b[39m TAGGER_JSONS[lang][\u001b[38;5;124m\"\u001b[39m\u001b[38;5;124mweights\u001b[39m\u001b[38;5;124m\"\u001b[39m]) \u001b[38;5;28;01mas\u001b[39;00m fin:\n\u001b[0;32m    275\u001b[0m         \u001b[38;5;28mself\u001b[39m\u001b[38;5;241m.\u001b[39mmodel\u001b[38;5;241m.\u001b[39mweights \u001b[38;5;241m=\u001b[39m json\u001b[38;5;241m.\u001b[39mload(fin)\n",
      "File \u001b[1;32mc:\\Users\\hp\\AppData\\Local\\Programs\\Python\\Python312\\Lib\\site-packages\\nltk\\data.py:579\u001b[0m, in \u001b[0;36mfind\u001b[1;34m(resource_name, paths)\u001b[0m\n\u001b[0;32m    577\u001b[0m sep \u001b[38;5;241m=\u001b[39m \u001b[38;5;124m\"\u001b[39m\u001b[38;5;124m*\u001b[39m\u001b[38;5;124m\"\u001b[39m \u001b[38;5;241m*\u001b[39m \u001b[38;5;241m70\u001b[39m\n\u001b[0;32m    578\u001b[0m resource_not_found \u001b[38;5;241m=\u001b[39m \u001b[38;5;124mf\u001b[39m\u001b[38;5;124m\"\u001b[39m\u001b[38;5;130;01m\\n\u001b[39;00m\u001b[38;5;132;01m{\u001b[39;00msep\u001b[38;5;132;01m}\u001b[39;00m\u001b[38;5;130;01m\\n\u001b[39;00m\u001b[38;5;132;01m{\u001b[39;00mmsg\u001b[38;5;132;01m}\u001b[39;00m\u001b[38;5;130;01m\\n\u001b[39;00m\u001b[38;5;132;01m{\u001b[39;00msep\u001b[38;5;132;01m}\u001b[39;00m\u001b[38;5;130;01m\\n\u001b[39;00m\u001b[38;5;124m\"\u001b[39m\n\u001b[1;32m--> 579\u001b[0m \u001b[38;5;28;01mraise\u001b[39;00m \u001b[38;5;167;01mLookupError\u001b[39;00m(resource_not_found)\n",
      "\u001b[1;31mLookupError\u001b[0m: \n**********************************************************************\n  Resource \u001b[93maveraged_perceptron_tagger_eng\u001b[0m not found.\n  Please use the NLTK Downloader to obtain the resource:\n\n  \u001b[31m>>> import nltk\n  >>> nltk.download('averaged_perceptron_tagger_eng')\n  \u001b[0m\n  For more information see: https://www.nltk.org/data.html\n\n  Attempted to load \u001b[93mtaggers/averaged_perceptron_tagger_eng/\u001b[0m\n\n  Searched in:\n    - 'C:\\\\Users\\\\hp/nltk_data'\n    - 'c:\\\\Users\\\\hp\\\\AppData\\\\Local\\\\Programs\\\\Python\\\\Python312\\\\nltk_data'\n    - 'c:\\\\Users\\\\hp\\\\AppData\\\\Local\\\\Programs\\\\Python\\\\Python312\\\\share\\\\nltk_data'\n    - 'c:\\\\Users\\\\hp\\\\AppData\\\\Local\\\\Programs\\\\Python\\\\Python312\\\\lib\\\\nltk_data'\n    - 'C:\\\\Users\\\\hp\\\\AppData\\\\Roaming\\\\nltk_data'\n    - 'C:\\\\nltk_data'\n    - 'D:\\\\nltk_data'\n    - 'E:\\\\nltk_data'\n**********************************************************************\n"
     ]
    }
   ],
   "source": [
    "#Q.No.11>  How can you perform part-of-speech tagging?\n",
    "nltk.download(\"averaged_perceptron_tagger_eng\")\n",
    "import nltk\n",
    "from nltk.tokenize import word_tokenize\n",
    "from nltk import pos_tag\n",
    "\n",
    "# Sample sentence\n",
    "sentence = \"The quick brown fox jumps over the lazy dog.\"\n",
    "\n",
    "# Tokenize the sentence into words\n",
    "words = word_tokenize(sentence)\n",
    "\n",
    "# Perform POS tagging\n",
    "tagged_words = pos_tag(words)\n",
    "\n",
    "# Display the POS tags\n",
    "print(tagged_words)"
   ]
  },
  {
   "cell_type": "code",
   "execution_count": 45,
   "metadata": {},
   "outputs": [
    {
     "name": "stdout",
     "output_type": "stream",
     "text": [
      "Cosine Similarity: 0.0\n"
     ]
    }
   ],
   "source": [
    "#Q.No.12>  How can you find the similarity between two sentences using cosine similarity?\n",
    "from sklearn.feature_extraction.text import TfidfVectorizer\n",
    "from sklearn.metrics.pairwise import cosine_similarity\n",
    "\n",
    "# Sample sentences\n",
    "sentence1 = \"Natural language processing is fascinating.\"\n",
    "sentence2 = \"I love studying artificial intelligence and NLP.\"\n",
    "\n",
    "# Create a TF-IDF Vectorizer\n",
    "vectorizer = TfidfVectorizer()\n",
    "\n",
    "# Convert the sentences into TF-IDF vectors\n",
    "tfidf_matrix = vectorizer.fit_transform([sentence1, sentence2])\n",
    "\n",
    "# Compute cosine similarity between the two sentences\n",
    "cosine_sim = cosine_similarity(tfidf_matrix[0], tfidf_matrix[1])\n",
    "\n",
    "# Display the result\n",
    "print(f\"Cosine Similarity: {cosine_sim[0][0]}\")"
   ]
  },
  {
   "cell_type": "code",
   "execution_count": 48,
   "metadata": {},
   "outputs": [
    {
     "name": "stderr",
     "output_type": "stream",
     "text": [
      "[nltk_data] Downloading package maxent_ne_chunker_tab to\n",
      "[nltk_data]     C:\\Users\\hp\\AppData\\Roaming\\nltk_data...\n",
      "[nltk_data] Error downloading 'maxent_ne_chunker_tab' from\n",
      "[nltk_data]     <https://raw.githubusercontent.com/nltk/nltk_data/gh-\n",
      "[nltk_data]     pages/packages/chunkers/maxent_ne_chunker_tab.zip>:\n",
      "[nltk_data]     <urlopen error [Errno 11001] getaddrinfo failed>\n",
      "[nltk_data] Downloading package words to\n",
      "[nltk_data]     C:\\Users\\hp\\AppData\\Roaming\\nltk_data...\n",
      "[nltk_data] Error downloading 'words' from\n",
      "[nltk_data]     <https://raw.githubusercontent.com/nltk/nltk_data/gh-\n",
      "[nltk_data]     pages/packages/corpora/words.zip>:   <urlopen error\n",
      "[nltk_data]     [Errno 11001] getaddrinfo failed>\n"
     ]
    },
    {
     "data": {
      "text/plain": [
       "False"
      ]
     },
     "execution_count": 48,
     "metadata": {},
     "output_type": "execute_result"
    }
   ],
   "source": [
    "nltk.download(\"maxent_ne_chunker_tab\")\n",
    "nltk.download('words')"
   ]
  },
  {
   "cell_type": "code",
   "execution_count": 49,
   "metadata": {},
   "outputs": [
    {
     "ename": "LookupError",
     "evalue": "\n**********************************************************************\n  Resource \u001b[93maveraged_perceptron_tagger_eng\u001b[0m not found.\n  Please use the NLTK Downloader to obtain the resource:\n\n  \u001b[31m>>> import nltk\n  >>> nltk.download('averaged_perceptron_tagger_eng')\n  \u001b[0m\n  For more information see: https://www.nltk.org/data.html\n\n  Attempted to load \u001b[93mtaggers/averaged_perceptron_tagger_eng/\u001b[0m\n\n  Searched in:\n    - 'C:\\\\Users\\\\hp/nltk_data'\n    - 'c:\\\\Users\\\\hp\\\\AppData\\\\Local\\\\Programs\\\\Python\\\\Python312\\\\nltk_data'\n    - 'c:\\\\Users\\\\hp\\\\AppData\\\\Local\\\\Programs\\\\Python\\\\Python312\\\\share\\\\nltk_data'\n    - 'c:\\\\Users\\\\hp\\\\AppData\\\\Local\\\\Programs\\\\Python\\\\Python312\\\\lib\\\\nltk_data'\n    - 'C:\\\\Users\\\\hp\\\\AppData\\\\Roaming\\\\nltk_data'\n    - 'C:\\\\nltk_data'\n    - 'D:\\\\nltk_data'\n    - 'E:\\\\nltk_data'\n**********************************************************************\n",
     "output_type": "error",
     "traceback": [
      "\u001b[1;31m---------------------------------------------------------------------------\u001b[0m",
      "\u001b[1;31mLookupError\u001b[0m                               Traceback (most recent call last)",
      "Cell \u001b[1;32mIn[49], line 11\u001b[0m\n\u001b[0;32m      9\u001b[0m \u001b[38;5;66;03m# Tokenize and POS tagging\u001b[39;00m\n\u001b[0;32m     10\u001b[0m tokens \u001b[38;5;241m=\u001b[39m word_tokenize(sentence)\n\u001b[1;32m---> 11\u001b[0m tagged \u001b[38;5;241m=\u001b[39m \u001b[43mpos_tag\u001b[49m\u001b[43m(\u001b[49m\u001b[43mtokens\u001b[49m\u001b[43m)\u001b[49m\n\u001b[0;32m     13\u001b[0m \u001b[38;5;66;03m# Perform Named Entity Recognition\u001b[39;00m\n\u001b[0;32m     14\u001b[0m ner_tree \u001b[38;5;241m=\u001b[39m ne_chunk(tagged)\n",
      "File \u001b[1;32mc:\\Users\\hp\\AppData\\Local\\Programs\\Python\\Python312\\Lib\\site-packages\\nltk\\tag\\__init__.py:168\u001b[0m, in \u001b[0;36mpos_tag\u001b[1;34m(tokens, tagset, lang)\u001b[0m\n\u001b[0;32m    143\u001b[0m \u001b[38;5;28;01mdef\u001b[39;00m \u001b[38;5;21mpos_tag\u001b[39m(tokens, tagset\u001b[38;5;241m=\u001b[39m\u001b[38;5;28;01mNone\u001b[39;00m, lang\u001b[38;5;241m=\u001b[39m\u001b[38;5;124m\"\u001b[39m\u001b[38;5;124meng\u001b[39m\u001b[38;5;124m\"\u001b[39m):\n\u001b[0;32m    144\u001b[0m \u001b[38;5;250m    \u001b[39m\u001b[38;5;124;03m\"\"\"\u001b[39;00m\n\u001b[0;32m    145\u001b[0m \u001b[38;5;124;03m    Use NLTK's currently recommended part of speech tagger to\u001b[39;00m\n\u001b[0;32m    146\u001b[0m \u001b[38;5;124;03m    tag the given list of tokens.\u001b[39;00m\n\u001b[1;32m   (...)\u001b[0m\n\u001b[0;32m    166\u001b[0m \u001b[38;5;124;03m    :rtype: list(tuple(str, str))\u001b[39;00m\n\u001b[0;32m    167\u001b[0m \u001b[38;5;124;03m    \"\"\"\u001b[39;00m\n\u001b[1;32m--> 168\u001b[0m     tagger \u001b[38;5;241m=\u001b[39m \u001b[43m_get_tagger\u001b[49m\u001b[43m(\u001b[49m\u001b[43mlang\u001b[49m\u001b[43m)\u001b[49m\n\u001b[0;32m    169\u001b[0m     \u001b[38;5;28;01mreturn\u001b[39;00m _pos_tag(tokens, tagset, tagger, lang)\n",
      "File \u001b[1;32mc:\\Users\\hp\\AppData\\Local\\Programs\\Python\\Python312\\Lib\\site-packages\\nltk\\tag\\__init__.py:110\u001b[0m, in \u001b[0;36m_get_tagger\u001b[1;34m(lang)\u001b[0m\n\u001b[0;32m    108\u001b[0m     tagger \u001b[38;5;241m=\u001b[39m PerceptronTagger(lang\u001b[38;5;241m=\u001b[39mlang)\n\u001b[0;32m    109\u001b[0m \u001b[38;5;28;01melse\u001b[39;00m:\n\u001b[1;32m--> 110\u001b[0m     tagger \u001b[38;5;241m=\u001b[39m \u001b[43mPerceptronTagger\u001b[49m\u001b[43m(\u001b[49m\u001b[43m)\u001b[49m\n\u001b[0;32m    111\u001b[0m \u001b[38;5;28;01mreturn\u001b[39;00m tagger\n",
      "File \u001b[1;32mc:\\Users\\hp\\AppData\\Local\\Programs\\Python\\Python312\\Lib\\site-packages\\nltk\\tag\\perceptron.py:183\u001b[0m, in \u001b[0;36mPerceptronTagger.__init__\u001b[1;34m(self, load, lang)\u001b[0m\n\u001b[0;32m    181\u001b[0m \u001b[38;5;28mself\u001b[39m\u001b[38;5;241m.\u001b[39mclasses \u001b[38;5;241m=\u001b[39m \u001b[38;5;28mset\u001b[39m()\n\u001b[0;32m    182\u001b[0m \u001b[38;5;28;01mif\u001b[39;00m load:\n\u001b[1;32m--> 183\u001b[0m     \u001b[38;5;28;43mself\u001b[39;49m\u001b[38;5;241;43m.\u001b[39;49m\u001b[43mload_from_json\u001b[49m\u001b[43m(\u001b[49m\u001b[43mlang\u001b[49m\u001b[43m)\u001b[49m\n",
      "File \u001b[1;32mc:\\Users\\hp\\AppData\\Local\\Programs\\Python\\Python312\\Lib\\site-packages\\nltk\\tag\\perceptron.py:273\u001b[0m, in \u001b[0;36mPerceptronTagger.load_from_json\u001b[1;34m(self, lang)\u001b[0m\n\u001b[0;32m    271\u001b[0m \u001b[38;5;28;01mdef\u001b[39;00m \u001b[38;5;21mload_from_json\u001b[39m(\u001b[38;5;28mself\u001b[39m, lang\u001b[38;5;241m=\u001b[39m\u001b[38;5;124m\"\u001b[39m\u001b[38;5;124meng\u001b[39m\u001b[38;5;124m\"\u001b[39m):\n\u001b[0;32m    272\u001b[0m     \u001b[38;5;66;03m# Automatically find path to the tagger if location is not specified.\u001b[39;00m\n\u001b[1;32m--> 273\u001b[0m     loc \u001b[38;5;241m=\u001b[39m \u001b[43mfind\u001b[49m\u001b[43m(\u001b[49m\u001b[38;5;124;43mf\u001b[39;49m\u001b[38;5;124;43m\"\u001b[39;49m\u001b[38;5;124;43mtaggers/averaged_perceptron_tagger_\u001b[39;49m\u001b[38;5;132;43;01m{\u001b[39;49;00m\u001b[43mlang\u001b[49m\u001b[38;5;132;43;01m}\u001b[39;49;00m\u001b[38;5;124;43m/\u001b[39;49m\u001b[38;5;124;43m\"\u001b[39;49m\u001b[43m)\u001b[49m\n\u001b[0;32m    274\u001b[0m     \u001b[38;5;28;01mwith\u001b[39;00m \u001b[38;5;28mopen\u001b[39m(loc \u001b[38;5;241m+\u001b[39m TAGGER_JSONS[lang][\u001b[38;5;124m\"\u001b[39m\u001b[38;5;124mweights\u001b[39m\u001b[38;5;124m\"\u001b[39m]) \u001b[38;5;28;01mas\u001b[39;00m fin:\n\u001b[0;32m    275\u001b[0m         \u001b[38;5;28mself\u001b[39m\u001b[38;5;241m.\u001b[39mmodel\u001b[38;5;241m.\u001b[39mweights \u001b[38;5;241m=\u001b[39m json\u001b[38;5;241m.\u001b[39mload(fin)\n",
      "File \u001b[1;32mc:\\Users\\hp\\AppData\\Local\\Programs\\Python\\Python312\\Lib\\site-packages\\nltk\\data.py:579\u001b[0m, in \u001b[0;36mfind\u001b[1;34m(resource_name, paths)\u001b[0m\n\u001b[0;32m    577\u001b[0m sep \u001b[38;5;241m=\u001b[39m \u001b[38;5;124m\"\u001b[39m\u001b[38;5;124m*\u001b[39m\u001b[38;5;124m\"\u001b[39m \u001b[38;5;241m*\u001b[39m \u001b[38;5;241m70\u001b[39m\n\u001b[0;32m    578\u001b[0m resource_not_found \u001b[38;5;241m=\u001b[39m \u001b[38;5;124mf\u001b[39m\u001b[38;5;124m\"\u001b[39m\u001b[38;5;130;01m\\n\u001b[39;00m\u001b[38;5;132;01m{\u001b[39;00msep\u001b[38;5;132;01m}\u001b[39;00m\u001b[38;5;130;01m\\n\u001b[39;00m\u001b[38;5;132;01m{\u001b[39;00mmsg\u001b[38;5;132;01m}\u001b[39;00m\u001b[38;5;130;01m\\n\u001b[39;00m\u001b[38;5;132;01m{\u001b[39;00msep\u001b[38;5;132;01m}\u001b[39;00m\u001b[38;5;130;01m\\n\u001b[39;00m\u001b[38;5;124m\"\u001b[39m\n\u001b[1;32m--> 579\u001b[0m \u001b[38;5;28;01mraise\u001b[39;00m \u001b[38;5;167;01mLookupError\u001b[39;00m(resource_not_found)\n",
      "\u001b[1;31mLookupError\u001b[0m: \n**********************************************************************\n  Resource \u001b[93maveraged_perceptron_tagger_eng\u001b[0m not found.\n  Please use the NLTK Downloader to obtain the resource:\n\n  \u001b[31m>>> import nltk\n  >>> nltk.download('averaged_perceptron_tagger_eng')\n  \u001b[0m\n  For more information see: https://www.nltk.org/data.html\n\n  Attempted to load \u001b[93mtaggers/averaged_perceptron_tagger_eng/\u001b[0m\n\n  Searched in:\n    - 'C:\\\\Users\\\\hp/nltk_data'\n    - 'c:\\\\Users\\\\hp\\\\AppData\\\\Local\\\\Programs\\\\Python\\\\Python312\\\\nltk_data'\n    - 'c:\\\\Users\\\\hp\\\\AppData\\\\Local\\\\Programs\\\\Python\\\\Python312\\\\share\\\\nltk_data'\n    - 'c:\\\\Users\\\\hp\\\\AppData\\\\Local\\\\Programs\\\\Python\\\\Python312\\\\lib\\\\nltk_data'\n    - 'C:\\\\Users\\\\hp\\\\AppData\\\\Roaming\\\\nltk_data'\n    - 'C:\\\\nltk_data'\n    - 'D:\\\\nltk_data'\n    - 'E:\\\\nltk_data'\n**********************************************************************\n"
     ]
    }
   ],
   "source": [
    "#Q.No.13>  How can you extract named entities from a sentence\n",
    "\n",
    "import nltk\n",
    "from nltk import word_tokenize, pos_tag, ne_chunk\n",
    "\n",
    "# Sample sentence\n",
    "sentence = \"Barack Obama was born in Honolulu on August 4, 1961.\"\n",
    "\n",
    "# Tokenize and POS tagging\n",
    "tokens = word_tokenize(sentence)\n",
    "tagged = pos_tag(tokens)\n",
    "\n",
    "# Perform Named Entity Recognition\n",
    "ner_tree = ne_chunk(tagged)\n",
    "\n",
    "# Extract named entities\n",
    "named_entities = []\n",
    "for subtree in ner_tree:\n",
    "    if isinstance(subtree, nltk.Tree):  # Subtree represents an entity\n",
    "        entity = \" \".join([word for word, tag in subtree])\n",
    "        named_entities.append((entity, subtree.label()))\n",
    "\n",
    "# Display the named entities\n",
    "print(named_entities)"
   ]
  },
  {
   "cell_type": "code",
   "execution_count": 51,
   "metadata": {},
   "outputs": [
    {
     "name": "stdout",
     "output_type": "stream",
     "text": [
      "Machine Learning (ML) is a subset of artificial intelligence (AI) that allows computers to learn from data and improve their performance over time without being explicitly programmed.\n",
      "Instead of relying on hard-coded rules, machine learning algorithms use patterns in data to make predictions or decisions.\n"
     ]
    }
   ],
   "source": [
    "#Q.No.14>  How can you split a large document into smaller chunks of text?\n",
    "import nltk\n",
    "from nltk import sent_tokenize\n",
    "\n",
    "paragraph=\"\"\"Machine Learning (ML) is a subset of artificial intelligence (AI) that allows computers to learn from data and improve their performance over time without being explicitly programmed. Instead of relying on hard-coded rules, machine learning algorithms use patterns in data to make predictions or decisions.\"\"\"\n",
    "\n",
    "sentences=sent_tokenize(paragraph)\n",
    "for sentence in sentences:\n",
    "    print(sentence)\n"
   ]
  },
  {
   "cell_type": "code",
   "execution_count": 52,
   "metadata": {},
   "outputs": [
    {
     "name": "stdout",
     "output_type": "stream",
     "text": [
      "        cat       mat        on       the\n",
      "0  0.377964  0.377964  0.377964  0.755929\n"
     ]
    }
   ],
   "source": [
    "#Q.No.15>  How can you calculate the TF-IDF (Term Frequency - Inverse Document Frequency) for a set of documents?\n",
    "from sklearn.feature_extraction.text import TfidfVectorizer\n",
    "\n",
    "# Sample set of documents\n",
    "documents = [\n",
    "\"\"\"The cat on the mat\"\"\"\n",
    "]\n",
    "\n",
    "# Initialize TfidfVectorizer\n",
    "vectorizer = TfidfVectorizer()\n",
    "\n",
    "# Fit the model and transform the documents into TF-IDF matrix\n",
    "tfidf_matrix = vectorizer.fit_transform(documents)\n",
    "\n",
    "# Convert the TF-IDF matrix into a dense format and get feature names (terms)\n",
    "dense_matrix = tfidf_matrix.todense()\n",
    "terms = vectorizer.get_feature_names_out()\n",
    "\n",
    "# Display the TF-IDF values for each term in each document\n",
    "import pandas as pd\n",
    "df = pd.DataFrame(dense_matrix, columns=terms)\n",
    "print(df)"
   ]
  },
  {
   "cell_type": "code",
   "execution_count": 53,
   "metadata": {},
   "outputs": [
    {
     "name": "stdout",
     "output_type": "stream",
     "text": [
      "['machin learn ( ml ) subset artifici intellig ( ai ) allow comput learn data improv perform time without explicit program .', 'instead reli hard-cod rule , machin learn algorithm use pattern data make predict decis .']\n"
     ]
    },
    {
     "name": "stderr",
     "output_type": "stream",
     "text": [
      "[nltk_data] Downloading package stopwords to\n",
      "[nltk_data]     C:\\Users\\hp\\AppData\\Roaming\\nltk_data...\n",
      "[nltk_data]   Package stopwords is already up-to-date!\n"
     ]
    }
   ],
   "source": [
    "#Q.No.16>  How can you apply tokenization, stopword removal, and stemming in one go?\n",
    "\n",
    "import nltk\n",
    "from nltk.corpus import stopwords\n",
    "from nltk.stem import SnowballStemmer\n",
    "snowballstemmer=SnowballStemmer('english')\n",
    "nltk.download('stopwords')\n",
    "\n",
    "paragraph=\"\"\"Machine Learning (ML) is a subset of artificial intelligence (AI) that allows computers to learn from data and improve their performance over time without being explicitly programmed. Instead of relying on hard-coded rules, machine learning algorithms use patterns in data to make predictions or decisions.\"\"\"\n",
    "sentences=nltk.sent_tokenize(paragraph)\n",
    "for i in range(len(sentences)):\n",
    "    words=nltk.word_tokenize(sentences[i])\n",
    "    words=[snowballstemmer.stem(word) for word in words if word not in set(stopwords.words('english'))]\n",
    "    sentences[i]=' '.join(words)\n",
    "\n",
    "print(sentences)"
   ]
  },
  {
   "cell_type": "code",
   "execution_count": 54,
   "metadata": {},
   "outputs": [
    {
     "data": {
      "image/png": "[encoded data removed]",
      "text/plain": [
       "<Figure size 1000x600 with 1 Axes>"
      ]
     },
     "metadata": {},
     "output_type": "display_data"
    }
   ],
   "source": [
    "#Q.No.17>  How can you visualize the frequency distribution of words in a sentence?\n",
    "import nltk\n",
    "import matplotlib.pyplot as plt\n",
    "from nltk.probability import FreqDist\n",
    "from nltk.tokenize import word_tokenize\n",
    "\n",
    "# Sample sentence\n",
    "sentence = \"Natural language processing is fun. Natural language is an exciting field.\"\n",
    "\n",
    "# Step 1: Tokenization\n",
    "# nltk.download('punkt')  # Download necessary resources\n",
    "tokens = word_tokenize(sentence.lower())  # Convert to lowercase to avoid case sensitivity\n",
    "\n",
    "# Step 2: Generate Frequency Distribution\n",
    "fdist = FreqDist(tokens)\n",
    "\n",
    "# Step 3: Visualize the Frequency Distribution\n",
    "plt.figure(figsize=(10, 6))\n",
    "fdist.plot(title=\"Word Frequency Distribution\", cumulative=False)\n",
    "plt.show()"
   ]
  },
  {
   "cell_type": "code",
   "execution_count": null,
   "metadata": {},
   "outputs": [],
   "source": []
  }
 ],
 "metadata": {
  "kernelspec": {
   "display_name": "Python 3",
   "language": "python",
   "name": "python3"
  },
  "language_info": {
   "codemirror_mode": {
    "name": "ipython",
    "version": 3
   },
   "file_extension": ".py",
   "mimetype": "text/x-python",
   "name": "python",
   "nbconvert_exporter": "python",
   "pygments_lexer": "ipython3",
   "version": "3.12.2"
  }
 },
 "nbformat": 4,
 "nbformat_minor": 2
}
